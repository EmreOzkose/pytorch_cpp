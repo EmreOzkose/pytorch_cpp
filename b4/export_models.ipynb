{
 "cells": [
  {
   "cell_type": "code",
   "execution_count": null,
   "metadata": {},
   "outputs": [],
   "source": [
    "import torch\n",
    "import torchvision"
   ]
  },
  {
   "cell_type": "code",
   "execution_count": null,
   "metadata": {},
   "outputs": [],
   "source": [
    "alexnet = torchvision.models.alexnet(pretrained=True)\n",
    "dummy_input = torch.rand((1, 3, 224, 224))\n",
    "\n",
    "traced_alexnet = torch.jit.trace(alexnet, dummy_input)\n",
    "torch.jit.save(traced_alexnet, \"alexnet.pt\")"
   ]
  },
  {
   "cell_type": "code",
   "execution_count": null,
   "metadata": {},
   "outputs": [],
   "source": []
  }
 ],
 "metadata": {
  "kernelspec": {
   "display_name": "Python 3.9.2 ('MaskCycleGAN-VC')",
   "language": "python",
   "name": "python3"
  },
  "language_info": {
   "codemirror_mode": {
    "name": "ipython",
    "version": 3
   },
   "file_extension": ".py",
   "mimetype": "text/x-python",
   "name": "python",
   "nbconvert_exporter": "python",
   "pygments_lexer": "ipython3",
   "version": "3.9.2"
  },
  "orig_nbformat": 4,
  "vscode": {
   "interpreter": {
    "hash": "1fe4634e00f77d7f0b4d2bf4f8013dd97fa38f498f1053abf04f7fa402fd3d00"
   }
  }
 },
 "nbformat": 4,
 "nbformat_minor": 2
}
