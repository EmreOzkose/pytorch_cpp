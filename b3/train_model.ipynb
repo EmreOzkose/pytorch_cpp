{
 "cells": [
  {
   "cell_type": "markdown",
   "metadata": {},
   "source": [
    "Data: https://www.kaggle.com/competitions/house-prices-advanced-regression-techniques/data"
   ]
  },
  {
   "cell_type": "code",
   "execution_count": 1,
   "metadata": {},
   "outputs": [],
   "source": [
    "import torch\n",
    "import pandas as pd\n",
    "\n",
    "from tqdm import tqdm\n",
    "import matplotlib.pyplot as plt\n",
    "\n",
    "def seed_everything(seed: int):\n",
    "    import random, os\n",
    "    import numpy as np\n",
    "    import torch\n",
    "    \n",
    "    random.seed(seed)\n",
    "    os.environ['PYTHONHASHSEED'] = str(seed)\n",
    "    np.random.seed(seed)\n",
    "    torch.manual_seed(seed)\n",
    "    torch.cuda.manual_seed(seed)\n",
    "    torch.backends.cudnn.deterministic = True\n",
    "    torch.backends.cudnn.benchmark = True\n",
    "\n",
    "device = \"cuda:0\"\n",
    "seed_everything(42)"
   ]
  },
  {
   "cell_type": "code",
   "execution_count": 2,
   "metadata": {},
   "outputs": [],
   "source": [
    "class HouseDataset(torch.utils.data.Dataset):\n",
    "    def __init__(self, dataframe, statistics) -> None:\n",
    "        super().__init__()\n",
    "        self.dataframe = dataframe\n",
    "        self.statistics = statistics\n",
    "\n",
    "    def __len__(self):\n",
    "        return len(self.dataframe)\n",
    "\n",
    "    def __getitem__(self, idx):\n",
    "        row = self.dataframe.iloc[idx]\n",
    "        area = (row.LotArea - self.statistics['LotArea'][0]) / self.statistics['LotArea'][1]\n",
    "        year = (row.YearBuilt - self.statistics['YearBuilt'][0]) / self.statistics['YearBuilt'][1]\n",
    "        price = row.SalePrice\n",
    "        return torch.Tensor([area, year]), torch.Tensor([price])\n",
    "\n",
    "\n",
    "dataframe = pd.read_csv('/home/sestek/workspace/medium/cpp_series/data/house/train.csv')\n",
    "dataframe = dataframe.sample(frac=1).reset_index(drop=True)\n",
    "dataframe.dropna()\n",
    "\n",
    "limit = int(len(dataframe) * 0.8)\n",
    "train_df = dataframe[:limit].loc[:, ['LotArea', 'YearBuilt', 'SalePrice']].reset_index(drop=True)\n",
    "test_df = dataframe[limit:].loc[:, ['LotArea', 'YearBuilt', 'SalePrice']].reset_index(drop=True)\n",
    "\n",
    "statistics = {\n",
    "    'LotArea': [train_df.LotArea.mean(), train_df.LotArea.std()],\n",
    "    'YearBuilt': [train_df.YearBuilt.mean(), train_df.YearBuilt.std()],\n",
    "}\n",
    "train_dataset, test_dataset = HouseDataset(train_df, statistics), HouseDataset(test_df, statistics)\n",
    "train_dl = torch.utils.data.DataLoader(train_dataset, batch_size=128)\n",
    "test_dl = torch.utils.data.DataLoader(test_dataset, batch_size=128)"
   ]
  },
  {
   "cell_type": "code",
   "execution_count": 3,
   "metadata": {},
   "outputs": [
    {
     "data": {
      "text/plain": [
       "{'LotArea': [10597.72089041096, 10684.958322516175],\n",
       " 'YearBuilt': [1971.1207191780823, 30.27955974415448]}"
      ]
     },
     "execution_count": 3,
     "metadata": {},
     "output_type": "execute_result"
    }
   ],
   "source": [
    "statistics"
   ]
  },
  {
   "cell_type": "code",
   "execution_count": 4,
   "metadata": {},
   "outputs": [],
   "source": [
    "class MLP(torch.nn.Module):\n",
    "    def __init__(self):\n",
    "        super().__init__()\n",
    "\n",
    "        self.fc1 = torch.nn.Linear(2, 100)\n",
    "        self.fc2 = torch.nn.Linear(100, 100)\n",
    "        self.fc3 = torch.nn.Linear(100, 1)\n",
    "\n",
    "    def forward(self, x):\n",
    "        x = torch.nn.functional.relu(self.fc1(x))\n",
    "        x = torch.nn.functional.relu(self.fc2(x))\n",
    "        x = torch.nn.functional.relu(self.fc3(x))\n",
    "        return x\n",
    "\n",
    "\n",
    "model = MLP().to(device)"
   ]
  },
  {
   "cell_type": "code",
   "execution_count": 5,
   "metadata": {},
   "outputs": [
    {
     "name": "stderr",
     "output_type": "stream",
     "text": [
      "train loss 39283.43 val loss 36274.70: 100%|██████████| 100/100 [00:18<00:00,  5.42it/s] \n"
     ]
    }
   ],
   "source": [
    "dataloaders = {'train': train_dl, 'val': test_dl}\n",
    "dataset_sizes = {'train':len(train_dataset), 'val':len(test_dataset)}\n",
    "optimizer = torch.optim.Adam(model.parameters(), lr=0.01)\n",
    "criterion = torch.nn.L1Loss()\n",
    "\n",
    "loss_dict = {\n",
    "    'train': [],\n",
    "    'val': [],\n",
    "}\n",
    "\n",
    "pbar = tqdm(range(100))\n",
    "for epoch in pbar:\n",
    "\n",
    "    train_loss, val_loss = [], []\n",
    "    for phase in ['train', 'val']:\n",
    "        if phase == 'train':\n",
    "            model.train()\n",
    "        else:\n",
    "            model.eval()\n",
    "\n",
    "        running_loss = 0.0\n",
    "\n",
    "        for inputs, labels in dataloaders[phase]:\n",
    "            inputs = inputs.to(device)\n",
    "            labels = labels.to(device)\n",
    "\n",
    "            optimizer.zero_grad()\n",
    "            \n",
    "            outputs = model(inputs)\n",
    "            loss = criterion(outputs, labels)\n",
    "\n",
    "            if phase == 'train':\n",
    "                loss.backward()\n",
    "                optimizer.step()\n",
    "\n",
    "            running_loss += loss.item() * inputs.size(0)\n",
    "\n",
    "        epoch_loss = running_loss / dataset_sizes[phase]\n",
    "        if phase == 'train':\n",
    "            train_loss.append(epoch_loss)\n",
    "        else:\n",
    "            val_loss.append(epoch_loss)\n",
    "    \n",
    "    epoch_train_loss = torch.mean(torch.Tensor(train_loss))\n",
    "    epoch_val_loss = torch.mean(torch.Tensor(val_loss))\n",
    "\n",
    "    pbar.desc = f\"train loss {epoch_train_loss:.2f} val loss {epoch_val_loss:.2f}\"\n",
    "    loss_dict['train'].append(epoch_train_loss)\n",
    "    loss_dict['val'].append(epoch_val_loss)"
   ]
  },
  {
   "cell_type": "code",
   "execution_count": 6,
   "metadata": {},
   "outputs": [
    {
     "data": {
      "image/png": "[encoded data removed]",
      "text/plain": [
       "<Figure size 432x288 with 1 Axes>"
      ]
     },
     "metadata": {
      "needs_background": "light"
     },
     "output_type": "display_data"
    }
   ],
   "source": [
    "plt.plot(loss_dict['train'], label='train')\n",
    "plt.plot(loss_dict['val'], label='val')\n",
    "plt.legend()\n",
    "plt.show()"
   ]
  },
  {
   "cell_type": "code",
   "execution_count": 7,
   "metadata": {},
   "outputs": [],
   "source": [
    "for inputs, labels in test_dl:\n",
    "    inputs = inputs.to(device)\n",
    "    labels = labels.to(device)\n",
    "\n",
    "    preds = model(inputs)\n",
    "\n",
    "    #for i in range(preds.shape[0]):\n",
    "    #    print(f\"{preds[i].item():.2f} - {labels[i].item():.2f}\")\n",
    "    break"
   ]
  },
  {
   "cell_type": "code",
   "execution_count": 8,
   "metadata": {},
   "outputs": [],
   "source": [
    "# Export Torchscript model\n",
    "traced_script_module = torch.jit.trace(model.cpu(), torch.tensor([-0.1741, -1.5892]))\n",
    "traced_script_module.save(\"traced_house_price_prediction.pt\")"
   ]
  },
  {
   "cell_type": "code",
   "execution_count": 9,
   "metadata": {},
   "outputs": [
    {
     "data": {
      "text/plain": [
       "(tensor([-0.1741, -1.5892], device='cuda:0'),\n",
       " tensor([210000.], device='cuda:0'))"
      ]
     },
     "execution_count": 9,
     "metadata": {},
     "output_type": "execute_result"
    }
   ],
   "source": [
    "inputs[0], labels[0]"
   ]
  },
  {
   "cell_type": "code",
   "execution_count": 10,
   "metadata": {},
   "outputs": [
    {
     "data": {
      "text/html": [
       "<div>\n",
       "<style scoped>\n",
       "    .dataframe tbody tr th:only-of-type {\n",
       "        vertical-align: middle;\n",
       "    }\n",
       "\n",
       "    .dataframe tbody tr th {\n",
       "        vertical-align: top;\n",
       "    }\n",
       "\n",
       "    .dataframe thead th {\n",
       "        text-align: right;\n",
       "    }\n",
       "</style>\n",
       "<table border=\"1\" class=\"dataframe\">\n",
       "  <thead>\n",
       "    <tr style=\"text-align: right;\">\n",
       "      <th></th>\n",
       "      <th>LotArea</th>\n",
       "      <th>YearBuilt</th>\n",
       "      <th>SalePrice</th>\n",
       "    </tr>\n",
       "  </thead>\n",
       "  <tbody>\n",
       "    <tr>\n",
       "      <th>0</th>\n",
       "      <td>8414</td>\n",
       "      <td>1963</td>\n",
       "      <td>154500</td>\n",
       "    </tr>\n",
       "    <tr>\n",
       "      <th>1</th>\n",
       "      <td>12256</td>\n",
       "      <td>1994</td>\n",
       "      <td>325000</td>\n",
       "    </tr>\n",
       "    <tr>\n",
       "      <th>2</th>\n",
       "      <td>8960</td>\n",
       "      <td>1927</td>\n",
       "      <td>115000</td>\n",
       "    </tr>\n",
       "    <tr>\n",
       "      <th>3</th>\n",
       "      <td>5000</td>\n",
       "      <td>1947</td>\n",
       "      <td>159000</td>\n",
       "    </tr>\n",
       "    <tr>\n",
       "      <th>4</th>\n",
       "      <td>12898</td>\n",
       "      <td>2007</td>\n",
       "      <td>315500</td>\n",
       "    </tr>\n",
       "    <tr>\n",
       "      <th>...</th>\n",
       "      <td>...</td>\n",
       "      <td>...</td>\n",
       "      <td>...</td>\n",
       "    </tr>\n",
       "    <tr>\n",
       "      <th>1455</th>\n",
       "      <td>9317</td>\n",
       "      <td>2006</td>\n",
       "      <td>176432</td>\n",
       "    </tr>\n",
       "    <tr>\n",
       "      <th>1456</th>\n",
       "      <td>7804</td>\n",
       "      <td>1928</td>\n",
       "      <td>135000</td>\n",
       "    </tr>\n",
       "    <tr>\n",
       "      <th>1457</th>\n",
       "      <td>8172</td>\n",
       "      <td>1955</td>\n",
       "      <td>115000</td>\n",
       "    </tr>\n",
       "    <tr>\n",
       "      <th>1458</th>\n",
       "      <td>7642</td>\n",
       "      <td>1918</td>\n",
       "      <td>189950</td>\n",
       "    </tr>\n",
       "    <tr>\n",
       "      <th>1459</th>\n",
       "      <td>3684</td>\n",
       "      <td>2007</td>\n",
       "      <td>174000</td>\n",
       "    </tr>\n",
       "  </tbody>\n",
       "</table>\n",
       "<p>1460 rows × 3 columns</p>\n",
       "</div>"
      ],
      "text/plain": [
       "      LotArea  YearBuilt  SalePrice\n",
       "0        8414       1963     154500\n",
       "1       12256       1994     325000\n",
       "2        8960       1927     115000\n",
       "3        5000       1947     159000\n",
       "4       12898       2007     315500\n",
       "...       ...        ...        ...\n",
       "1455     9317       2006     176432\n",
       "1456     7804       1928     135000\n",
       "1457     8172       1955     115000\n",
       "1458     7642       1918     189950\n",
       "1459     3684       2007     174000\n",
       "\n",
       "[1460 rows x 3 columns]"
      ]
     },
     "execution_count": 10,
     "metadata": {},
     "output_type": "execute_result"
    }
   ],
   "source": [
    "dataframe[['LotArea', 'YearBuilt', 'SalePrice']]"
   ]
  },
  {
   "cell_type": "code",
   "execution_count": null,
   "metadata": {},
   "outputs": [],
   "source": []
  }
 ],
 "metadata": {
  "kernelspec": {
   "display_name": "Python 3.9.2 ('MaskCycleGAN-VC')",
   "language": "python",
   "name": "python3"
  },
  "language_info": {
   "codemirror_mode": {
    "name": "ipython",
    "version": 3
   },
   "file_extension": ".py",
   "mimetype": "text/x-python",
   "name": "python",
   "nbconvert_exporter": "python",
   "pygments_lexer": "ipython3",
   "version": "3.9.2"
  },
  "orig_nbformat": 4,
  "vscode": {
   "interpreter": {
    "hash": "1fe4634e00f77d7f0b4d2bf4f8013dd97fa38f498f1053abf04f7fa402fd3d00"
   }
  }
 },
 "nbformat": 4,
 "nbformat_minor": 2
}
